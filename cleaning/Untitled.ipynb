{
 "cells": [
  {
   "cell_type": "code",
   "execution_count": 1,
   "id": "8379a537",
   "metadata": {
    "ExecuteTime": {
     "end_time": "2023-03-21T10:56:06.473719Z",
     "start_time": "2023-03-21T10:56:03.823816Z"
    }
   },
   "outputs": [],
   "source": [
    "import pandas as pd"
   ]
  },
  {
   "cell_type": "code",
   "execution_count": 21,
   "id": "10b7eda9",
   "metadata": {
    "ExecuteTime": {
     "end_time": "2023-03-21T12:02:29.973639Z",
     "start_time": "2023-03-21T12:02:29.927335Z"
    }
   },
   "outputs": [
    {
     "name": "stderr",
     "output_type": "stream",
     "text": [
      "C:\\Users\\prann\\AppData\\Local\\Temp\\ipykernel_19352\\1604451522.py:1: FutureWarning: The default value of regex will change from True to False in a future version.\n",
      "  pd.read_csv(\"test.csv\", encoding = \"ISO-8859-1\")[[\"p_code\", \"S1 Name\", \"S2 Name\", \"S3 Name\"]].set_index(\"p_code\").stack().reset_index()[[\"p_code\", 0]].set_index(\"p_code\")[0].str.replace(r\"([^a-zA-Z-, ])|(\\(.*\\))\", \"\").str.title().to_csv(\"works_on.csv\")\n"
     ]
    }
   ],
   "source": [
    "pd.read_csv(\"test.csv\", encoding = \"ISO-8859-1\")[[\"p_code\", \"S1 Name\", \"S2 Name\", \"S3 Name\"]].set_index(\"p_code\").stack().reset_index()[[\"p_code\", 0]].set_index(\"p_code\")[0].str.replace(r\"([^a-zA-Z-, ])|(\\(.*\\))\", \"\").str.title().to_csv(\"works_on.csv\")"
   ]
  },
  {
   "cell_type": "code",
   "execution_count": 26,
   "id": "01d88a90",
   "metadata": {
    "ExecuteTime": {
     "end_time": "2023-03-22T00:02:42.101156Z",
     "start_time": "2023-03-22T00:02:42.045236Z"
    }
   },
   "outputs": [],
   "source": [
    "pd.read_csv(\"submits.csv\").set_index(\"Project Code\").stack().reset_index()[[\"Project Code\", 0]].to_csv(\"submission.csv\")"
   ]
  },
  {
   "cell_type": "code",
   "execution_count": null,
   "id": "3924b434",
   "metadata": {},
   "outputs": [],
   "source": []
  }
 ],
 "metadata": {
  "kernelspec": {
   "display_name": "Python 3 (ipykernel)",
   "language": "python",
   "name": "python3"
  },
  "language_info": {
   "codemirror_mode": {
    "name": "ipython",
    "version": 3
   },
   "file_extension": ".py",
   "mimetype": "text/x-python",
   "name": "python",
   "nbconvert_exporter": "python",
   "pygments_lexer": "ipython3",
   "version": "3.9.16"
  }
 },
 "nbformat": 4,
 "nbformat_minor": 5
}
