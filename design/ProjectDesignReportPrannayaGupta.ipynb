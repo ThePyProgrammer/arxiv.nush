{
 "cells": [
  {
   "cell_type": "markdown",
   "metadata": {},
   "source": [
    "<P> <img src=\"https://i.ibb.co/gyNf19D/nhslogo.png\" alt=\"nhslogo\" border=\"0\" width=\"100\" align=\"right\"><font size=\"6\"><b> CS6131 Database Design</b> </font>"
   ]
  },
  {
   "cell_type": "markdown",
   "metadata": {},
   "source": [
    "# Project Design Phase Report Submission\n",
    "> _by Prannaya Gupta (M23604)_"
   ]
  },
  {
   "cell_type": "markdown",
   "metadata": {},
   "source": [
    "### Submission Instructions"
   ]
  },
  {
   "cell_type": "markdown",
   "metadata": {},
   "source": [
    "<div class=\"alert alert-block alert-info\">\n",
    "\n",
    "* You will need to submit the following files in your final project submission:\n",
    "    * Your Jupyter Notebook report. Name the report `ProjectDesignReport<YourName>.ipynb`.\n",
    "    * All relevant image files to be displayed in this report (make sure you use relative file referencing and the image will display in another computer).\n",
    "    * Attached each file one by one and upload on Coursemology.\n",
    "* Please print a copy of the final report to OneNote Individual Notebook space > Project. Double check on the image resolution. If the resolution is poor, please copy and paste the ORIGINAL clear image into the OneNote page (paste at the side of the printed image).\n",
    "\n",
    "* Any submission that fails to comply to the above instructions will result in upto 5% penalty.\n",
    "\n",
    "* You may wish to refer to the following reference to help organize and \"beautify\" your final report here. <br>\n",
    "https://thecodingbot.com/markdown-in-jupyter-ipython-notebook-cheatsheet/\n",
    "</div>"
   ]
  },
  {
   "cell_type": "markdown",
   "metadata": {},
   "source": [
    "### Section A: Overview & Business Rules"
   ]
  },
  {
   "cell_type": "markdown",
   "metadata": {},
   "source": [
    "### Overview"
   ]
  },
  {
   "cell_type": "markdown",
   "metadata": {},
   "source": [
    "<div class=\"alert alert-block alert-warning\">\n",
    "Give a short background of your proposed domain, and why a RDBMS system is appropriate.\n",
    "</div>\n"
   ]
  },
  {
   "cell_type": "markdown",
   "metadata": {},
   "source": [
    "The Research, Innovation and Enterprise (RIE) Department of NUS High School is a core pillar for the continued development of students in our school. With the Advanced Research Project (ARP) being a major component of our diploma, the RIE department has the immense responsibility to administrate various projects from various students. This especially important given the fact that the school gives students autonomy to participate in multiple projects with mentors from various research institutions under different time periods. However, recent years have shown that there are certain cracks forming in the database system employed by the RIE, which is incredibly problematic in administrating continuation projects, receiving project details and more.\n",
    "\n",
    "I believe that our RIE department will benefit from a RDBMS system to manage projects so that they have consistency in Project Details, allowing easier methods to search and sift through projects done by specific students, submit and receive Project Reports, Posters and ISEF/SSEF Forms, and help people get to know more about research done by Seniors and Juniors alike."
   ]
  },
  {
   "cell_type": "markdown",
   "metadata": {},
   "source": [
    "### Business Rules"
   ]
  },
  {
   "cell_type": "markdown",
   "metadata": {},
   "source": [
    "<div class=\"alert alert-block alert-warning\">\n",
    "Complete your writeup of the final business rules here. The business rules writeup should be AS CLEAR AS possible. Someone reading your writeup should be able to clearly model a similar ER you have proposed in Section B.\n",
    "</div>\n"
   ]
  },
  {
   "cell_type": "markdown",
   "metadata": {},
   "source": [
    "We design a basic database system to store the research projects of NUS High School students.\n",
    "\n",
    "A **person** is any individual with a *name* and a unique *email address*. This person can be a **student**, a **teacher** or a **research mentor**, or any set of 2-3 such roles.\n",
    "\n",
    "The **student** must be either a **NUSH student** or an **external student**. A **NUSH student** has a *profile picture*, *NUSH student ID* (derived from the email), and *graduation year*. An **external student** must have a *phone number*.\n",
    "\n",
    "The teacher hails from a specific *department*. The **teacher** must be either a **NUSH teacher** or an **external teacher**. A **NUSH teacher** has a *profile picture* and *preferred email address* (NUSH/NUS). A **NUSH teacher** can further be a **teacher mentor** or an **administrator**, or both, but they are not tied down to any of these roles. An **external teacher** has a *phone number*.\n",
    "\n",
    "A **research mentor** is defined as a researcher with a *phone number* and an optional *orcid*.\n",
    "\n",
    "A **project** is any research work performed over the course of a single *year* of submission. The project is assigned a unique *project code* and also has a non-empty *project title*, *project abstract* and *project report PDF*.\n",
    "\n",
    "An **institution** is an educational or research location with a unique *name*, *initials* and *location*. This **institution** must either be an **external school**, a **research institution**, or both.\n",
    "\n",
    "A **research event** is an event with a unique *event ID*, *name*, *date range* composed of a *start date* and *end date*, *format*, *organiser*, *website url* and *year* (derived from *start date*). A **research event** can be a **competiton**, **conference**, both or neither. A **conference** has a *doi*. A **competiton** has multiple *award types*.\n",
    "\n",
    "An **accomplishment** is some milestone achieved by a submission, categorised by a unique *accomplishment ID*. An accomplishment can be an **award** or a **publication**. An **award** has a *name* and a *prize money*. A **publication** has a unique *doi*.\n",
    "\n",
    "A **submission** is a submission to a research event, with a unique *submission ID*, *submision date*, *submission title*, *submission abstract* and multiple *submission documents* (each of which is a PDF).\n",
    "\n",
    "An **external school** has multiple **external teachers**, and each **external teacher** must come from one **external school**. An **external teacher** is the emergency contact of multiple **external students**, and each **external student** must have one **external teacher** as an emergency contact.\n",
    "\n",
    "A **research mentor** may work at multiple **research institutes** under a specific *department* with a specific *role* at a specific *office location* at each **research institute**. A **research institute** may have multiple **research mentors**, each of whom hail from specific *departments* and specific *roles*.\n",
    "\n",
    "A **student** can work on zero or more **projects**, each constituting a *work range*, which is composed of a *start date* and an *end date*. A **project** also has one or more **students**, who each work across a *work range* composed of a *start date* and an *end date*.\n",
    "\n",
    "A **teacher mentor** administrates one or more **projects**. A **project** has only one **teacher mentor**.\n",
    "\n",
    "A **research mentor** mentors one of more **projects**, each of which has an allocated *first meeting location* and *first meeting date and time*. A **project** is mentored by zero or more **research mentors**, each of whom first met the participants at the *first meeting location* at *first meeting date and time*.\n",
    "\n",
    "A _**project**_ can be optionally continued onto a _new **project**_.\n",
    "\n",
    "A **student** can optionally submit one or more **submissions** to each **project**. A **student** can also optionally submit a **submission** for one or more **projects**. A **project** can be optionally submitted by one or more **students** for each **submission**. A **project** can have one ore more **submissions** for each **student** submitting. A **submission** must be submitted by one or more **students** for a **project**. A **submission** must submit one or more **projects** for each **student**.\n",
    "\n",
    "A **submission** must be submitted to a **research event** and be allocated a *code* (which might not be unique). A **research event** must have zero or more **submissions**, each being allocated a *code*.\n",
    "\n",
    "A **submission** can win zero or more **accomplishments**. An **accomplishment** must be won through a **submission**.\n",
    "\n",
    "A **competition** grants zero or more **awards**. An **award** must be granted by a **competition**. A **conference** publishes zero or more **publications**. An **publication** must be published by a **conference**."
   ]
  },
  {
   "cell_type": "markdown",
   "metadata": {},
   "source": [
    "### Section B: ER Model"
   ]
  },
  {
   "cell_type": "markdown",
   "metadata": {},
   "source": [
    "<div class=\"alert alert-block alert-warning\">\n",
    "Attached the image of your ER Model here.\n",
    "</div>\n"
   ]
  },
  {
   "cell_type": "markdown",
   "metadata": {},
   "source": [
    "<img src=\"er2.png\"/>"
   ]
  },
  {
   "cell_type": "markdown",
   "metadata": {},
   "source": [
    "### Section C: Relational Model"
   ]
  },
  {
   "cell_type": "markdown",
   "metadata": {},
   "source": [
    "<div class=\"alert alert-block alert-warning\">\n",
    "Attached the image of your Relational Model here. You should use Box-Style notation only. All foregin keys must be properly indicated.\n",
    "</div>\n"
   ]
  },
  {
   "cell_type": "markdown",
   "metadata": {},
   "source": [
    "<img src=\"rel.png\">"
   ]
  },
  {
   "cell_type": "markdown",
   "metadata": {},
   "source": [
    "<div class=\"alert alert-block alert-warning\">\n",
    "Justify your mapping strategy from ER to relational, particularly if the approach deviates from the norm, or you have inheritance in your ER model (i.e. which strategy is adopted for inheritance mapping and why).\n",
    "</div>\n"
   ]
  },
  {
   "cell_type": "markdown",
   "metadata": {},
   "source": [
    "#### Relationship Mapping\n",
    "\n",
    "Let's consider each relationship that has been mapped in some way.\n",
    "\n",
    "##### `WORKS_ON` → `WorksOn`, `MENTORS` → `mentors`, `WORKS_AT` → `WorksAt`\n",
    "\n",
    "Since this is a binary N:M relationship, we use a separate table inheriting foreign keys from both entities. This is to ensure space isn't wasted excessively.\n",
    "\n",
    "##### `ADMINS` → `admins`\n",
    "\n",
    "Whilst this is a binary 1:N relationship, we instead store the foreign key `subId` with a `eventId` in a separate table.\n",
    "\n",
    "##### `SUBMITS` → `Submits`\n",
    "\n",
    "This is a ternary L:M:N relationship, hence we store the foreign keys in a separate table.\n",
    "\n",
    "##### `SUBMITTED_TO` → `SubmittedTo`\n",
    "\n",
    "Whilst this is a binary 1:N relationship, we instead store the foreign key `teacherEmail` with a `pcode` in a separate table since projects are not immediately assigned teacher mentors.\n",
    "\n",
    "##### `CONTINUES` → `ProjectContinuation`\n",
    "Since it is not compulsory for a project to be continued, we utilise a separate table instead of an attribute in `Project` to ensure we save space.\n",
    "\n",
    "\n",
    "#### Inheritance\n",
    "\n",
    "\n",
    "For inheritance, we mostly place the details about subroles in the parent table (e.g. `NUSHTeacher`, `Institution`, `ResearchEvent`, `Accomplishment`) so as to conserve space by not spawning too many tables. However, for instances with larger subtables, e.g. `Person` and `Teacher`, we split off tables. This is to ensure we don't have too large tables that are largely empty."
   ]
  },
  {
   "cell_type": "markdown",
   "metadata": {},
   "source": [
    "<div class=\"alert alert-block alert-warning\">\n",
    "If the relational schema mapped from the ER is not in 3NF, propose relevant normalization to make all relations in 3NF. You may leave this part blank if no further normalization is required.\n",
    "</div>\n"
   ]
  },
  {
   "cell_type": "markdown",
   "metadata": {},
   "source": [
    "No normalization is required, all are 3NF."
   ]
  },
  {
   "cell_type": "markdown",
   "metadata": {
    "slideshow": {
     "slide_type": "skip"
    }
   },
   "source": [
    "<hr>\n",
    "© NUS High School of Math & Science"
   ]
  }
 ],
 "metadata": {
  "kernelspec": {
   "display_name": "Python 3 (ipykernel)",
   "language": "python",
   "name": "python3"
  },
  "language_info": {
   "codemirror_mode": {
    "name": "ipython",
    "version": 3
   },
   "file_extension": ".py",
   "mimetype": "text/x-python",
   "name": "python",
   "nbconvert_exporter": "python",
   "pygments_lexer": "ipython3",
   "version": "3.9.7"
  },
  "toc": {
   "base_numbering": 1,
   "nav_menu": {},
   "number_sections": true,
   "sideBar": true,
   "skip_h1_title": false,
   "title_cell": "Table of Contents",
   "title_sidebar": "Contents",
   "toc_cell": false,
   "toc_position": {},
   "toc_section_display": true,
   "toc_window_display": false
  },
  "varInspector": {
   "cols": {
    "lenName": 16,
    "lenType": 16,
    "lenVar": 40
   },
   "kernels_config": {
    "python": {
     "delete_cmd_postfix": "",
     "delete_cmd_prefix": "del ",
     "library": "var_list.py",
     "varRefreshCmd": "print(var_dic_list())"
    },
    "r": {
     "delete_cmd_postfix": ") ",
     "delete_cmd_prefix": "rm(",
     "library": "var_list.r",
     "varRefreshCmd": "cat(var_dic_list()) "
    }
   },
   "types_to_exclude": [
    "module",
    "function",
    "builtin_function_or_method",
    "instance",
    "_Feature"
   ],
   "window_display": false
  }
 },
 "nbformat": 4,
 "nbformat_minor": 4
}
